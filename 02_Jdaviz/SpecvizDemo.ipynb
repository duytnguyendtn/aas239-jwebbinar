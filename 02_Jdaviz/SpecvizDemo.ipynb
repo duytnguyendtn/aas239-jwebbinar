{
 "cells": [
  {
   "cell_type": "markdown",
   "metadata": {},
   "source": [
    "# Specviz Demonstration Notebook\n",
    "This notebook demonstrates the Specviz API in the Notebook setting. UI equivalents for these actions, as well as additional documentation about Specviz, can be found here: https://jdaviz.readthedocs.io/en/latest/specviz/\n",
    "\n",
    "# Objective 1: Display Spectrum in Specviz\n",
    "## Setup"
   ]
  },
  {
   "cell_type": "code",
   "execution_count": null,
   "metadata": {},
   "outputs": [],
   "source": [
    "import astropy.units as u"
   ]
  },
  {
   "cell_type": "code",
   "execution_count": null,
   "metadata": {},
   "outputs": [],
   "source": [
    "# Suppress warnings\n",
    "import warnings\n",
    "\n",
    "with warnings.catch_warnings():\n",
    "    warnings.simplefilter(\"ignore\")"
   ]
  },
  {
   "cell_type": "markdown",
   "metadata": {},
   "source": [
    "## Create Specviz via Helper"
   ]
  },
  {
   "cell_type": "code",
   "execution_count": null,
   "metadata": {
    "scrolled": false
   },
   "outputs": [],
   "source": [
    "from jdaviz import Specviz\n",
    "specviz = Specviz()"
   ]
  },
  {
   "cell_type": "markdown",
   "metadata": {},
   "source": [
    "## Display Specviz"
   ]
  },
  {
   "cell_type": "code",
   "execution_count": null,
   "metadata": {},
   "outputs": [],
   "source": [
    "specviz.app"
   ]
  },
  {
   "cell_type": "markdown",
   "metadata": {},
   "source": [
    "## Load a file to Specviz"
   ]
  },
  {
   "cell_type": "code",
   "execution_count": null,
   "metadata": {},
   "outputs": [],
   "source": [
    "from astropy.utils.data import download_file\n",
    "fn = download_file('https://stsci.box.com/shared/static/llbr4w8ucqpz6g81hi41v4tnszwi3bq4.fits', cache=True)\n",
    "specviz.load_spectrum(fn, \"NIRSpec Spectrum\")"
   ]
  },
  {
   "cell_type": "markdown",
   "metadata": {},
   "source": [
    "# Objective 2: Identify a Spectral Line\n",
    "## Visually pan to spectral feature\n",
    "The first step is to visually identify the spectral feature. You can pan and zoom using one of our included viewer tools, or you can use the methods x_limits() and y_limits() to modify the field of view of Specviz. You can provide these methods a scalar (which assumes the units of the loaded spectra), an Astropy Quantity, or 'auto' to automatically scale."
   ]
  },
  {
   "cell_type": "code",
   "execution_count": null,
   "metadata": {},
   "outputs": [],
   "source": [
    "specviz.x_limits()\n",
    "specviz.x_limits(650*u.nm,750*u.nm)\n",
    "specviz.y_limits('auto', 110.0)"
   ]
  },
  {
   "cell_type": "markdown",
   "metadata": {},
   "source": [
    "## Load Line Lists\n",
    "We can leverage Specviz's integrated lists of pre-identified lines to help us identify our line feature. The line list functionality is located within the [\"Line Lists\" plugin in the plugin tray](https://jdaviz.readthedocs.io/en/latest/specviz/plugins.html#line-lists)\n",
    "\n",
    "*HINT*: Hb,OIII, NII, Ha, and NII are present in this particular spectrum\n",
    "\n",
    "You can also load a custom line list manually via the API:"
   ]
  },
  {
   "cell_type": "code",
   "execution_count": null,
   "metadata": {},
   "outputs": [],
   "source": [
    "## TODO: Include API example of loading custom line list"
   ]
  },
  {
   "cell_type": "markdown",
   "metadata": {},
   "source": [
    "## Redshift Slider\n",
    "As a hint, this spectrum is redshifted. To adjust the plotted spectral lines to the correct redshift, you can drag the [redshift slider](https://jdaviz.readthedocs.io/en/latest/specviz/redshift.html) located at the top of the tool"
   ]
  },
  {
   "cell_type": "markdown",
   "metadata": {},
   "source": [
    "# Objective 3: Fit a model to the line\n",
    "Now that we have identified the line, we can try to fit a model to it using the included [Model Fitting capabilities of Specviz](https://jdaviz.readthedocs.io/en/latest/specviz/plugins.html#model-fitting)\n",
    "## Selecting the line as a region\n",
    "The first step to fitting a model to the line is [defining the spectral region](https://jdaviz.readthedocs.io/en/latest/specviz/displaying.html#defining-spectral-regions) across which the model will be fit. To do this, select the line using our `region select` tool in the viewer toolbox."
   ]
  },
  {
   "cell_type": "markdown",
   "metadata": {},
   "source": [
    "### Subset Retrieval\n",
    "As a quick aside, after defining regions in your spectra, you can retrieve your subsets through different means. To retrieve your subset by name:"
   ]
  },
  {
   "cell_type": "code",
   "execution_count": null,
   "metadata": {},
   "outputs": [],
   "source": [
    "# Retrieved the spectral regions defined:\n",
    "specviz.get_spectral_regions('Subset 1')"
   ]
  },
  {
   "cell_type": "markdown",
   "metadata": {},
   "source": [
    "To extract the segment of the spectrum along the spectral region we just defined, you can retrieve it below:"
   ]
  },
  {
   "cell_type": "code",
   "execution_count": null,
   "metadata": {},
   "outputs": [],
   "source": [
    "# Returns a version of the whole spectra, with a mask applied\n",
    "specviz.get_spectra('Subset 1')"
   ]
  },
  {
   "cell_type": "markdown",
   "metadata": {},
   "source": [
    "## Model fitting\n",
    "To actually fit the spectrum in this spectral region, open the `Model Fitting` plugin from the plugin tray. Select our NIRSpec data and our Spectral Region we defined, and define the appropriate models for this region. In this example, we'll plot a simple gaussian model to the feature. Computing the model will automatically overplot the resulting fit over our spectrum."
   ]
  },
  {
   "cell_type": "markdown",
   "metadata": {},
   "source": [
    "## Model Retrieval:\n",
    "Once we have our model, we can [extract our model](https://jdaviz.readthedocs.io/en/latest/notebook/export_data.html#export-model-and-model-parameters) it out by calling:"
   ]
  },
  {
   "cell_type": "code",
   "execution_count": null,
   "metadata": {},
   "outputs": [],
   "source": [
    "# Retrieve our fitted model\n",
    "specviz.get_models()"
   ]
  },
  {
   "cell_type": "markdown",
   "metadata": {},
   "source": [
    "You can also retrieve the model's parameters below:"
   ]
  },
  {
   "cell_type": "code",
   "execution_count": null,
   "metadata": {},
   "outputs": [],
   "source": [
    "# Retrieve the parameters from which our model was constructed:\n",
    "specviz.get_model_parameters(model_label=\"Model\", x=x, y=y)"
   ]
  },
  {
   "cell_type": "markdown",
   "metadata": {},
   "source": [
    "This concludes the Specviz demonstration notebook.\n",
    "# Thank you!\n",
    "Thank you for attending Space Telescope Science Institute's Data Analysis Tools Workshop at the 239th Meeting of the American Astronomical Society! We hope you found this session informative and our tools useful for your analysis.\n",
    "\n",
    "* Documentation: https://jdaviz.readthedocs.io/\n",
    "* GitHub: https://github.com/spacetelescope/jdaviz\n",
    "* Report an issue directly to us: https://github.com/spacetelescope/jdaviz/issues/new/choose\n",
    "* JWST Help Desk: https://stsci.service-now.com/jwst"
   ]
  }
 ],
 "metadata": {
  "kernelspec": {
   "display_name": "Python 3 (ipykernel)",
   "language": "python",
   "name": "python3"
  },
  "language_info": {
   "codemirror_mode": {
    "name": "ipython",
    "version": 3
   },
   "file_extension": ".py",
   "mimetype": "text/x-python",
   "name": "python",
   "nbconvert_exporter": "python",
   "pygments_lexer": "ipython3",
   "version": "3.9.5"
  }
 },
 "nbformat": 4,
 "nbformat_minor": 4
}
